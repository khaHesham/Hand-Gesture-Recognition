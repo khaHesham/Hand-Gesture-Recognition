{
 "cells": [
  {
   "attachments": {},
   "cell_type": "markdown",
   "metadata": {},
   "source": [
    "## initial code for our Hand Gesture Recognition"
   ]
  },
  {
   "cell_type": "code",
   "execution_count": 1,
   "metadata": {},
   "outputs": [],
   "source": [
    "# ML models imports\n",
    "from sklearn.model_selection import RandomizedSearchCV\n",
    "from sklearn.ensemble import RandomForestClassifier, GradientBoostingClassifier\n",
    "from sklearn.svm import SVC\n",
    "from sklearn.linear_model import LogisticRegression\n",
    "from sklearn.tree import DecisionTreeClassifier\n",
    "from sklearn.neighbors import KNeighborsClassifier\n",
    "from sklearn.cluster import KMeans\n",
    "from sklearn.naive_bayes import GaussianNB\n",
    "from sklearn.neural_network import MLPClassifier\n",
    "from sklearn.model_selection import train_test_split\n",
    "from sklearn.model_selection import train_test_split\n",
    "from skimage.feature import hog\n",
    "from sklearn.decomposition import PCA\n",
    "from sklearn.preprocessing import StandardScaler\n",
    "\n",
    "# destribution models imports\n",
    "from scipy.stats import randint, uniform\n",
    "\n",
    "# Data manipulation imports\n",
    "import numpy as np\n",
    "import pandas as pd\n",
    "import tqdm as tqdm\n",
    "\n",
    "# visualisation models imports\n",
    "import matplotlib.pyplot as plt\n",
    "\n",
    "# image processing imports\n",
    "import skimage.io as io\n",
    "import cv2\n",
    "from skimage.transform import resize\n",
    "\n",
    "# dealing with files\n",
    "import os\n",
    "\n",
    "# visual dataset (to test randomized gridsearch not needed for now)\n",
    "from sklearn.datasets import make_hastie_10_2  # to test our models\n",
    "\n",
    "# from utils import prepareData, LoadData, FeatureExtraction, preprocess\n",
    "import csv"
   ]
  },
  {
   "cell_type": "code",
   "execution_count": 2,
   "metadata": {},
   "outputs": [],
   "source": [
    "def segment(image):\n",
    "    blured_image = cv2.GaussianBlur(image, (7, 7), 0)\n",
    "    ycbcr_image = cv2.cvtColor(blured_image, cv2.COLOR_BGR2YCrCb)\n",
    "    # Extract the Cr channel\n",
    "    cr_channel = ycbcr_image[:,:,1]\n",
    "\n",
    "    # Apply thresholding to obtain a binary image\n",
    "    _, binary_img = cv2.threshold(cr_channel,0,255,cv2.THRESH_BINARY_INV + cv2.THRESH_OTSU)\n",
    "\n",
    "    # Define the structuring element for the closing operation\n",
    "    kernel = cv2.getStructuringElement(cv2.MORPH_RECT, (80, 80))\n",
    "\n",
    "    # Define the structuring element for the eroding small noise\n",
    "    smallKernel = cv2.getStructuringElement(cv2.MORPH_RECT, (5, 5))\n",
    "    #Apply erosion to remove small noise\n",
    "    eroded_img=cv2.morphologyEx(binary_img,cv2.MORPH_ERODE,smallKernel)\n",
    "    # Perform the closing operation\n",
    "    closed_img = cv2.morphologyEx(binary_img, cv2.MORPH_CLOSE, kernel)\n",
    "\n",
    "    # Find the contours in the binary image\n",
    "    contours, hierarchy = cv2.findContours(eroded_img, cv2.RETR_EXTERNAL, cv2.CHAIN_APPROX_SIMPLE)\n",
    "\n",
    "    # Filling the contours on a copy of the original image\n",
    "    # img_contours = cv2.cvtColor(cr_channel, cv2.COLOR_GRAY2BGR)\n",
    "    # cv2.drawContours(img_contours, contours, -1, (0, 0, 0), -1)\n",
    "\n",
    "    segmented_image = closed_img.copy()\n",
    "    cv2.drawContours(segmented_image, contours, -1, 255, -1)\n",
    "\n",
    "    return segmented_image\n",
    "\n",
    "def chooseGamma(image):\n",
    "    grayScale= cv2.cvtColor(image, cv2.COLOR_BGR2GRAY)\n",
    "    grayScale=np.array(grayScale)\n",
    "    meanVal=np.mean(grayScale)\n",
    "    if meanVal < 110:\n",
    "        gamma=2.5\n",
    "    elif meanVal <115:\n",
    "        gamma=2.3\n",
    "    elif meanVal <120: \n",
    "        gamma=2.1\n",
    "    elif meanVal <125:\n",
    "        gamma=1.8\n",
    "    elif meanVal <130: \n",
    "        gamma=1.7\n",
    "    elif meanVal <135:\n",
    "        gamma=1.5\n",
    "    elif meanVal <140:\n",
    "        gamma=0.9\n",
    "    elif meanVal <145:\n",
    "        gamma=0.8\n",
    "    elif meanVal <150: \n",
    "        gamma=0.75\n",
    "    else:\n",
    "        gamma=0.8\n",
    "         \n",
    "    return adjust_gamma(image,gamma)\n",
    "\n",
    "def adjust_gamma(image, gamma=1.0):\n",
    "    # build a lookup table mapping the pixel values [0, 255] to\n",
    "\t# their adjusted gamma values\n",
    "\tinvGamma = 1.0 / gamma\n",
    "\ttable = np.array([((i / 255.0) ** invGamma) * 255\n",
    "\t\tfor i in np.arange(0, 256)]).astype(\"uint8\")\n",
    "\t# apply gamma correction using the lookup table\n",
    "\treturn cv2.LUT(image, table)\n",
    "\n",
    "\n"
   ]
  },
  {
   "cell_type": "code",
   "execution_count": 3,
   "metadata": {},
   "outputs": [],
   "source": [
    "def segment(image):\n",
    "    blured_image = cv2.GaussianBlur(image, (7, 7), 0)\n",
    "    ycbcr_image = cv2.cvtColor(blured_image, cv2.COLOR_BGR2YCrCb)\n",
    "    # Extract the Cr channel\n",
    "    cr_channel = ycbcr_image[:,:,1]\n",
    "\n",
    "    # Apply thresholding to obtain a binary image\n",
    "    _, binary_img = cv2.threshold(cr_channel,0,255,cv2.THRESH_BINARY_INV + cv2.THRESH_OTSU)\n",
    "\n",
    "    # Define the structuring element for the closing operation\n",
    "    kernel = cv2.getStructuringElement(cv2.MORPH_RECT, (10, 10))\n",
    "\n",
    "    # Perform the closing operation\n",
    "    closed_img = cv2.morphologyEx(binary_img, cv2.MORPH_CLOSE, kernel)\n",
    "\n",
    "    # Find the contours in the binary image\n",
    "    contours, hierarchy = cv2.findContours(closed_img, cv2.RETR_EXTERNAL, cv2.CHAIN_APPROX_SIMPLE)\n",
    "\n",
    "    # Filling the contours on a copy of the original image\n",
    "    # img_contours = cv2.cvtColor(cr_channel, cv2.COLOR_GRAY2BGR)\n",
    "    # cv2.drawContours(img_contours, contours, -1, (0, 0, 0), -1)\n",
    "\n",
    "    segmented_image = closed_img.copy()\n",
    "    cv2.drawContours(segmented_image, contours, -1, 255, -1)\n",
    "\n",
    "    return segmented_image"
   ]
  },
  {
   "cell_type": "code",
   "execution_count": 3,
   "metadata": {},
   "outputs": [],
   "source": [
    "def featureScalingUsingSklearn(features):\n",
    "    '''\n",
    "        Inputs:\n",
    "            features: the features to be scaled\n",
    "        Outputs:\n",
    "            scaledFeatures: the scaled features\n",
    "        Note: \n",
    "            this function is used to scale the features to be in the range [0,1]\n",
    "            this is done by subtracting the minimum value from each feature and then dividing by the range\n",
    "            of the feature.\n",
    "        Reference: \n",
    "            https://stackabuse.com/feature-scaling-data-with-scikit-learn-for-machine-learning-in-python/\n",
    "    '''\n",
    "    scaler = StandardScaler()\n",
    "    scaledFeatures = scaler.fit_transform(features)\n",
    "    return scaledFeatures"
   ]
  },
  {
   "cell_type": "code",
   "execution_count": 4,
   "metadata": {},
   "outputs": [],
   "source": [
    "def Blobs(image):\n",
    "    # Convert the image to grayscale\n",
    "    gray = cv2.cvtColor(image, cv2.COLOR_BGR2GRAY)\n",
    "\n",
    "    # Apply Laplacian of Gaussian (LoG) filter\n",
    "    log = cv2.GaussianBlur(gray, (5, 5), 0)\n",
    "    log = cv2.Laplacian(log, cv2.CV_8U, ksize=5)\n",
    "\n",
    "    # Threshold the filtered image to obtain a binary image\n",
    "    _, binary = cv2.threshold(log, 0, 255, cv2.THRESH_BINARY+cv2.THRESH_OTSU)\n",
    "\n",
    "    # Apply morphological operations to remove noise and fill gaps in the blobs\n",
    "    kernel = cv2.getStructuringElement(cv2.MORPH_ELLIPSE, (9, 9))\n",
    "    binary = cv2.morphologyEx(binary, cv2.MORPH_CLOSE, kernel)\n",
    "\n",
    "    # Detect and extract the blobs using the SimpleBlobDetector in OpenCV\n",
    "    params = cv2.SimpleBlobDetector_Params()\n",
    "    params.minThreshold = 0\n",
    "    params.maxThreshold = 255\n",
    "    detector = cv2.SimpleBlobDetector_create(params)\n",
    "    keypoints = detector.detect(binary)\n",
    "\n",
    "    extracted_blobs = []\n",
    "\n",
    "    for kp in keypoints:\n",
    "        f = extract_from_keypoint(kp)\n",
    "        extracted_blobs.append(f)\n",
    "\n",
    "    return np.asarray(extracted_blobs[:200]).flatten()\n",
    "    \n"
   ]
  },
  {
   "cell_type": "code",
   "execution_count": 45,
   "metadata": {},
   "outputs": [
    {
     "data": {
      "text/plain": [
       "1276"
      ]
     },
     "execution_count": 45,
     "metadata": {},
     "output_type": "execute_result"
    }
   ],
   "source": [
    "len(np.asarray(blobs).flatten())"
   ]
  },
  {
   "cell_type": "code",
   "execution_count": 5,
   "metadata": {},
   "outputs": [],
   "source": [
    "def extract_from_keypoint(kp):\n",
    "    # Extract relevant attributes from keypoint\n",
    "    x, y = kp.pt\n",
    "    size = kp.size\n",
    "    angle = kp.angle\n",
    "    # Compute and normalize the angle in the range [0, 1)\n",
    "    angle = angle / 360.0\n",
    "    if angle < 0:\n",
    "        angle += 1.0\n",
    "\n",
    "    # Create a feature array\n",
    "    features = np.array([x, y, size, angle], dtype=np.float32)\n",
    "\n",
    "    return features\n"
   ]
  },
  {
   "cell_type": "code",
   "execution_count": 3,
   "metadata": {},
   "outputs": [],
   "source": [
    "def NU3U(originalImage):\n",
    "    image=chooseGamma(originalImage)\n",
    "    mask =segment(image)\n",
    "    # image=cv2.bitwise_and(originalImage,originalImage,mask=mask)\n",
    "    # image=cv2.cvtColor(image, cv2.COLOR_BGR2GRAY)\n",
    "    return mask"
   ]
  },
  {
   "cell_type": "code",
   "execution_count": 13,
   "metadata": {},
   "outputs": [
    {
     "data": {
      "text/plain": [
       "<matplotlib.image.AxesImage at 0x1e4abf2c1c0>"
      ]
     },
     "execution_count": 13,
     "metadata": {},
     "output_type": "execute_result"
    },
    {
     "data": {
      "image/png": "[encoded data removed]",
      "text/plain": [
       "<Figure size 640x480 with 1 Axes>"
      ]
     },
     "metadata": {},
     "output_type": "display_data"
    }
   ],
   "source": [
    "m = segment(image)\n",
    "io.imshow(m)"
   ]
  },
  {
   "cell_type": "code",
   "execution_count": 12,
   "metadata": {},
   "outputs": [
    {
     "data": {
      "text/plain": [
       "<matplotlib.image.AxesImage at 0x1e4ab334340>"
      ]
     },
     "execution_count": 12,
     "metadata": {},
     "output_type": "execute_result"
    },
    {
     "data": {
      "image/png": "[encoded data removed]",
      "text/plain": [
       "<Figure size 640x480 with 1 Axes>"
      ]
     },
     "metadata": {},
     "output_type": "display_data"
    }
   ],
   "source": [
    "image = io.imread('0_men (7).JPG')\n",
    "m = NU3U(image)\n",
    "io.imshow(m)"
   ]
  },
  {
   "cell_type": "code",
   "execution_count": 4,
   "metadata": {},
   "outputs": [],
   "source": [
    "def FeatureExtraction(image):\n",
    "        \n",
    "    # Extract the hog features\n",
    "    # block_norm uses L2 norm with hysterisis for reducing effect of illuminacity\n",
    "    # transform_sqrt for applying gamma correction\n",
    "    # preprocessed_image = segment(image)\n",
    "    preprocessed_image = NU3U(image)\n",
    "    \n",
    "    # resized_image = resize(preprocessed_image,(64,128))   # downscaing from approx 2500x4000 to 500x500\n",
    "    resized_image = resize(preprocessed_image,(64,128))\n",
    "\n",
    "    hog_features = hog(resized_image, block_norm='L2-Hys', feature_vector=True, transform_sqrt=True, pixels_per_cell=(12, 12), cells_per_block=(2, 2))\n",
    "\n",
    "    \n",
    "\n",
    "    return hog_features"
   ]
  },
  {
   "cell_type": "code",
   "execution_count": 5,
   "metadata": {},
   "outputs": [],
   "source": [
    "def LoadData():\n",
    "    Features=[]\n",
    "    labels=[]\n",
    "\n",
    "    i = 0\n",
    "    for gender in [\"men\",\"Women\"]:\n",
    "        datadir = r\"Sample\\{}\".format(gender)\n",
    "        # loop over gender\n",
    "        for hand in os.listdir(datadir): \n",
    "            # loop over each class [0,1,2,3,4,5]\n",
    "            for img in os.listdir(datadir+ \"/\" +str(hand)):\n",
    "                # ignoring anything except images\n",
    "                if((img.split('.')[-1]).lower() not in ['jpg','png','jpeg']):\n",
    "                    continue\n",
    "\n",
    "                # loading our images\n",
    "                img_array=io.imread(datadir + \"/\" + str(hand) + \"/\" + img )  # approx 2500 * 4000\n",
    "\n",
    "                # append extracted features to Featurees list   \n",
    "                Feature = FeatureExtraction(img_array)        \n",
    "                Features.append(Feature) \n",
    "\n",
    "                # append class of image.\n",
    "                labels.append(hand)  \n",
    "\n",
    "                print(f'image Number: {i}')\n",
    "                i+=1\n",
    "\n",
    "    return np.asarray(Features),np.asarray(labels)"
   ]
  },
  {
   "cell_type": "code",
   "execution_count": 6,
   "metadata": {},
   "outputs": [
    {
     "name": "stdout",
     "output_type": "stream",
     "text": [
      "image Number: 0\n",
      "image Number: 1\n",
      "image Number: 2\n",
      "image Number: 3\n",
      "image Number: 4\n",
      "image Number: 5\n",
      "image Number: 6\n",
      "image Number: 7\n",
      "image Number: 8\n",
      "image Number: 9\n",
      "image Number: 10\n",
      "image Number: 11\n",
      "image Number: 12\n",
      "image Number: 13\n",
      "image Number: 14\n",
      "image Number: 15\n",
      "image Number: 16\n",
      "image Number: 17\n",
      "image Number: 18\n",
      "image Number: 19\n",
      "image Number: 20\n",
      "image Number: 21\n",
      "image Number: 22\n",
      "image Number: 23\n",
      "image Number: 24\n",
      "image Number: 25\n",
      "image Number: 26\n",
      "image Number: 27\n",
      "image Number: 28\n",
      "image Number: 29\n",
      "image Number: 30\n",
      "image Number: 31\n",
      "image Number: 32\n",
      "image Number: 33\n",
      "image Number: 34\n",
      "image Number: 35\n",
      "image Number: 36\n",
      "image Number: 37\n",
      "image Number: 38\n",
      "image Number: 39\n",
      "image Number: 40\n",
      "image Number: 41\n",
      "image Number: 42\n",
      "image Number: 43\n",
      "image Number: 44\n",
      "image Number: 45\n",
      "image Number: 46\n",
      "image Number: 47\n",
      "image Number: 48\n",
      "image Number: 49\n",
      "image Number: 50\n",
      "image Number: 51\n",
      "image Number: 52\n",
      "image Number: 53\n",
      "image Number: 54\n",
      "image Number: 55\n",
      "image Number: 56\n",
      "image Number: 57\n",
      "image Number: 58\n"
     ]
    }
   ],
   "source": [
    "Features, labels = LoadData() "
   ]
  },
  {
   "cell_type": "code",
   "execution_count": 195,
   "metadata": {},
   "outputs": [],
   "source": [
    "# labels"
   ]
  },
  {
   "cell_type": "code",
   "execution_count": 64,
   "metadata": {},
   "outputs": [
    {
     "data": {
      "text/plain": [
       "0.5693317386726928"
      ]
     },
     "execution_count": 64,
     "metadata": {},
     "output_type": "execute_result"
    }
   ],
   "source": [
    "np.save('labels_nu3u.npy', labels)\n",
    "np.save('features_nu3u.npy', Features)\n",
    "# labels=np.load('labels_nu3.npy')\n",
    "# Features=np.load('features_nu3.npy')  \n",
    "# len(labels)\n",
    "Features[0].max()"
   ]
  },
  {
   "cell_type": "code",
   "execution_count": 25,
   "metadata": {},
   "outputs": [
    {
     "data": {
      "text/plain": [
       "0.0"
      ]
     },
     "execution_count": 25,
     "metadata": {},
     "output_type": "execute_result"
    }
   ],
   "source": []
  },
  {
   "cell_type": "code",
   "execution_count": 197,
   "metadata": {},
   "outputs": [],
   "source": [
    "# Use Pandas to read the CSV file in chunks of 1000 rows\n",
    "# chunk_size = 10\n",
    "# for chunk in pd.read_csv('Features.csv', chunksize=chunk_size):\n",
    "#     # Process each chunk of data here\n",
    "#     print(chunk.head())"
   ]
  },
  {
   "cell_type": "code",
   "execution_count": 198,
   "metadata": {},
   "outputs": [],
   "source": [
    "# test = np.load('Features/1.npy')\n",
    "# test.max()"
   ]
  },
  {
   "cell_type": "code",
   "execution_count": 199,
   "metadata": {},
   "outputs": [],
   "source": [
    "# img = cv2.imread('1_men (2).JPG')\n",
    "# lower_rgb=np.array([0, 0, 0],dtype=\"uint8\")\n",
    "# upper_rgb=np.array([230, 230, 230],dtype=\"uint8\")\n",
    "# skin_region=cv2.inRange(img,lower_rgb,upper_rgb)\n",
    "# cv2.imwrite(\"segmented_2.jpg\",skin_region)"
   ]
  },
  {
   "attachments": {},
   "cell_type": "markdown",
   "metadata": {},
   "source": [
    "* # Selecting the best model"
   ]
  },
  {
   "attachments": {},
   "cell_type": "markdown",
   "metadata": {},
   "source": [
    "- ### Define hyperparameter grids for each model"
   ]
  },
  {
   "cell_type": "code",
   "execution_count": 7,
   "metadata": {},
   "outputs": [],
   "source": [
    "param_distributions = {\n",
    "    'RandomForestClassifier': {\n",
    "        'n_estimators': randint(50, 500),\n",
    "        'max_depth': randint(2, 20),\n",
    "        'min_samples_split': randint(2, 10),\n",
    "        'min_samples_leaf': randint(1, 5),\n",
    "        'max_features': ['sqrt', 'log2']\n",
    "    },\n",
    "    'GradientBoostingClassifier': {\n",
    "        'learning_rate': uniform(0.01, 0.2),\n",
    "        'n_estimators': randint(50, 500),\n",
    "        'max_depth': randint(2, 20),\n",
    "        'min_samples_split': randint(2, 10),\n",
    "        'min_samples_leaf': randint(1, 5),\n",
    "        'max_features': ['sqrt', 'log2']\n",
    "    },\n",
    "    'SVC': {\n",
    "        'C': uniform(0.01, 100),\n",
    "        'kernel': ['linear', 'poly', 'rbf', 'sigmoid'],\n",
    "        'degree': [2, 3, 4, 5,6],\n",
    "        'gamma': ['scale', 'auto'] + list(np.arange(0.1, 1, 0.1)),\n",
    "        'coef0': [-1, 0, 1],\n",
    "        'shrinking': [True, False],\n",
    "        'probability': [True, False],\n",
    "        'tol': [1e-5, 1e-4, 1e-3],\n",
    "        'max_iter': [100, 500, 1000, -1]\n",
    "    },\n",
    "    'LogisticRegression': {\n",
    "        'C': uniform(0.01, 10),\n",
    "        'penalty': ['l1', 'l2', 'elasticnet', 'none'],\n",
    "        'solver': ['newton-cg', 'lbfgs', 'liblinear', 'sag', 'saga'],\n",
    "        'max_iter': randint(50, 500)\n",
    "    },\n",
    "    'DecisionTreeClassifier': {\n",
    "        'criterion': ['gini', 'entropy'],\n",
    "        'splitter': ['best', 'random'],\n",
    "        'max_depth': randint(2, 20),\n",
    "        'min_samples_split': randint(2, 10),\n",
    "        'min_samples_leaf': randint(1, 5),\n",
    "        'max_features': ['sqrt', 'log2']\n",
    "    },\n",
    "    'KNeighborsClassifier': {\n",
    "        'n_neighbors': randint(3, 30),\n",
    "        'weights': ['uniform', 'distance'],\n",
    "        'algorithm': ['ball_tree', 'kd_tree', 'brute'],\n",
    "        'leaf_size': randint(10, 100)\n",
    "    },\n",
    "    'GaussianNB': {\n",
    "        'var_smoothing': uniform(1e-09, 1e-07)\n",
    "    },\n",
    "    'MLPClassifier': {\n",
    "        'hidden_layer_sizes': [(50, 50), (100,), (100, 50)],\n",
    "        'activation': ['identity', 'logistic', 'tanh', 'relu'],\n",
    "        'solver': ['lbfgs', 'sgd', 'adam'],\n",
    "        'alpha': uniform(0.0001, 0.01),\n",
    "        'max_iter': randint(100, 1000)\n",
    "    }\n",
    "}"
   ]
  },
  {
   "attachments": {},
   "cell_type": "markdown",
   "metadata": {},
   "source": [
    "- ### Create a list of models to train (as example)"
   ]
  },
  {
   "cell_type": "code",
   "execution_count": 8,
   "metadata": {},
   "outputs": [],
   "source": [
    "models = [\n",
    "    SVC(),\n",
    "    GaussianNB(),\n",
    "    KNeighborsClassifier(),\n",
    "    RandomForestClassifier()\n",
    "]"
   ]
  },
  {
   "attachments": {},
   "cell_type": "markdown",
   "metadata": {},
   "source": [
    "- ### Loop over the models and fit  "
   ]
  },
  {
   "cell_type": "code",
   "execution_count": 9,
   "metadata": {},
   "outputs": [],
   "source": [
    "# load our dummy data to test the randomizedSearche function\n",
    "x,y = Features,labels\n",
    "df = pd.DataFrame(x)\n",
    "df['Y'] = y\n",
    "\n",
    "train, test = train_test_split(df, test_size=0.2) # this function shuffles the data points, and splits the data into\n",
    "                                                  # 80% training set and 20% test set (indicated by test_size=0.2)\n",
    "X_train, Y_train = train.iloc[:, :-1], train.iloc[:, -1]\n",
    "X_test, Y_test = test.iloc[:, :-1], test.iloc[:, -1]"
   ]
  },
  {
   "cell_type": "code",
   "execution_count": 10,
   "metadata": {},
   "outputs": [
    {
     "name": "stdout",
     "output_type": "stream",
     "text": [
      "Training Model 1/4: SVC\n",
      "Best score: 0.644\n",
      "Best parameters: {'C': 10.754603981586087, 'coef0': 0, 'degree': 5, 'gamma': 0.5, 'kernel': 'linear', 'max_iter': 100, 'probability': False, 'shrinking': True, 'tol': 1e-05}\n",
      "\n",
      "Training Model 2/4: GaussianNB\n",
      "Best score: 0.467\n",
      "Best parameters: {'var_smoothing': 4.097047531916136e-08}\n",
      "\n",
      "Training Model 3/4: KNeighborsClassifier\n",
      "Best score: 0.684\n",
      "Best parameters: {'algorithm': 'brute', 'leaf_size': 31, 'n_neighbors': 3, 'weights': 'distance'}\n",
      "\n",
      "Training Model 4/4: RandomForestClassifier\n",
      "Best score: 0.598\n",
      "Best parameters: {'max_depth': 13, 'max_features': 'sqrt', 'min_samples_leaf': 2, 'min_samples_split': 3, 'n_estimators': 66}\n",
      "\n"
     ]
    }
   ],
   "source": [
    "for i, model in enumerate(models):\n",
    "    print(f'Training Model {i+1}/{len(models)}: {str(model)[:-2]}')\n",
    "    # Define randomized grid search\n",
    "    random_search = RandomizedSearchCV(model, param_distributions[str(model)[:-2]], n_iter=10,cv=5, n_jobs=-1) # n_jobs means number of jobs to run in parallel. None means 1,\n",
    "                                                                                                                # -1 means using all processors 😈.\n",
    "    # Fit the randomized grid search to the data\n",
    "    random_search.fit(X_train, Y_train)\n",
    "    print(f'Best score: {random_search.best_score_:.3f}')\n",
    "    print(f'Best parameters: {random_search.best_params_}\\n')"
   ]
  },
  {
   "cell_type": "markdown",
   "metadata": {},
   "source": []
  }
 ],
 "metadata": {
  "kernelspec": {
   "display_name": "Python 3",
   "language": "python",
   "name": "python3"
  },
  "language_info": {
   "codemirror_mode": {
    "name": "ipython",
    "version": 3
   },
   "file_extension": ".py",
   "mimetype": "text/x-python",
   "name": "python",
   "nbconvert_exporter": "python",
   "pygments_lexer": "ipython3",
   "version": "3.10.7"
  },
  "orig_nbformat": 4
 },
 "nbformat": 4,
 "nbformat_minor": 2
}
